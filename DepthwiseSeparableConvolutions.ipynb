{
  "nbformat": 4,
  "nbformat_minor": 0,
  "metadata": {
    "colab": {
      "provenance": [],
      "authorship_tag": "ABX9TyMH4kj8lIE1c0sQd14T1w93",
      "include_colab_link": true
    },
    "kernelspec": {
      "name": "python3",
      "display_name": "Python 3"
    },
    "language_info": {
      "name": "python"
    }
  },
  "cells": [
    {
      "cell_type": "markdown",
      "metadata": {
        "id": "view-in-github",
        "colab_type": "text"
      },
      "source": [
        "<a href=\"https://colab.research.google.com/github/technologyhamed/Neuralnetwork/blob/Single/DepthwiseSeparableConvolutions.ipynb\" target=\"_parent\"><img src=\"https://colab.research.google.com/assets/colab-badge.svg\" alt=\"Open In Colab\"/></a>"
      ]
    },
    {
      "cell_type": "code",
      "execution_count": 12,
      "metadata": {
        "id": "G22RmQHkck2v"
      },
      "outputs": [],
      "source": [
        "import tensorflow as tf\n",
        "import tensorflow.keras as keras\n",
        "from keras.datasets import mnist\n",
        "\n",
        "# load dataset\n",
        "(trainX, trainY), (testX, testY) = keras.datasets.cifar10.load_data()"
      ]
    },
    {
      "cell_type": "code",
      "source": [
        "class DepthwiseSeparableConv2D(keras.layers.Layer):\n",
        "  def __init__(self, filters, kernel_size, padding, activation):\n",
        "    super(DepthwiseSeparableConv2D, self).__init__()\n",
        "    self.depthwise =  tf.keras.layers.DepthwiseConv2D(kernel_size = kernel_size, padding = padding, activation = activation)\n",
        "    self.pointwise =  tf.keras.layers.Conv2D(filters = filters, kernel_size = (1, 1), activation = activation)\n",
        "\n",
        "  def call(self, input_tensor):\n",
        "    x = self.depthwise(input_tensor)\n",
        "    return self.pointwise(x)"
      ],
      "metadata": {
        "id": "cGKNrnh1cp6Q"
      },
      "execution_count": 13,
      "outputs": []
    },
    {
      "cell_type": "code",
      "source": [
        "visible = keras.Input(shape=(32, 32, 3))\n",
        "depthwise_separable = DepthwiseSeparableConv2D(filters=64, kernel_size=(5,5), padding=\"valid\", activation=\"relu\")(visible)\n",
        "depthwise_model = keras.Model(inputs=visible, outputs=depthwise_separable)\n",
        "depthwise_model.summary()"
      ],
      "metadata": {
        "colab": {
          "base_uri": "https://localhost:8080/"
        },
        "id": "3625KZRydFId",
        "outputId": "639d44b2-abbd-4797-9cf3-448cc0ae0238"
      },
      "execution_count": 16,
      "outputs": [
        {
          "output_type": "stream",
          "name": "stdout",
          "text": [
            "Model: \"model_2\"\n",
            "_________________________________________________________________\n",
            " Layer (type)                Output Shape              Param #   \n",
            "=================================================================\n",
            " input_7 (InputLayer)        [(None, 32, 32, 3)]       0         \n",
            "                                                                 \n",
            " depthwise_separable_conv2d_  (None, 28, 28, 64)       334       \n",
            " 6 (DepthwiseSeparableConv2D                                     \n",
            " )                                                               \n",
            "                                                                 \n",
            "=================================================================\n",
            "Total params: 334\n",
            "Trainable params: 334\n",
            "Non-trainable params: 0\n",
            "_________________________________________________________________\n"
          ]
        }
      ]
    },
    {
      "cell_type": "code",
      "source": [
        "from keras.models import Model\n",
        "from keras.layers import Input, Conv2D, MaxPooling2D, Dense, Flatten, SeparableConv2D\n",
        "import tensorflow as tf\n",
        "\n",
        "# function for creating a vgg block\n",
        "def vgg_block(layer_in, n_filters, n_conv):\n",
        "\t# add convolutional layers\n",
        "\tfor _ in range(n_conv):\n",
        "\t\tlayer_in = Conv2D(filters = n_filters, kernel_size = (3,3), padding='same', activation=\"relu\")(layer_in)\n",
        "\t# add max pooling layer\n",
        "\tlayer_in = MaxPooling2D((2,2), strides=(2,2))(layer_in)\n",
        "\treturn layer_in\n",
        "\n",
        "visible = Input(shape=(32, 32, 3))\n",
        "layer = vgg_block(visible, 64, 2)\n",
        "layer = vgg_block(layer, 128, 2)\n",
        "layer = vgg_block(layer, 256, 2)\n",
        "layer = Flatten()(layer)\n",
        "layer = Dense(units=10, activation=\"softmax\")(layer)\n",
        "\n",
        "# create model\n",
        "model = Model(inputs=visible, outputs=layer)\n",
        "\n",
        "# summarize model\n",
        "model.summary()\n",
        "\n",
        "model.compile(optimizer=\"adam\", loss=tf.keras.losses.SparseCategoricalCrossentropy(), metrics=\"acc\")\n",
        "\n",
        "history = model.fit(x=trainX, y=trainY, batch_size=128, epochs=10, validation_data=(testX, testY))"
      ],
      "metadata": {
        "id": "HJNz7IXUh11A"
      },
      "execution_count": null,
      "outputs": []
    },
    {
      "cell_type": "code",
      "source": [
        "import tensorflow.keras as keras\n",
        "from keras.datasets import mnist\n",
        "import tensorflow as tf\n",
        "\n",
        "# load dataset\n",
        "(trainX, trainY), (testX, testY) = keras.datasets.cifar10.load_data()\n",
        "# depthwise separable VGG block\n",
        "def vgg_depthwise_block(layer_in, n_filters, n_conv):\n",
        "\t# add convolutional layers\n",
        "\tfor _ in range(n_conv):\n",
        "\t\tlayer_in = tf.keras.layers.SeparableConv2D(filters = n_filters, kernel_size = (3,3), padding='same',activation='relu')(layer_in)\n",
        "\t# add max pooling layer\n",
        "\tlayer_in = tf.keras.layers.MaxPooling2D((2,2), strides=(2,2))(layer_in)\n",
        "\treturn layer_in\n",
        "\n",
        "visible = keras.Input(shape=(32, 32, 3))\n",
        "layer = vgg_depthwise_block(visible, 64, 2)\n",
        "layer = vgg_depthwise_block(layer, 128, 2)\n",
        "layer = vgg_depthwise_block(layer, 256, 2)\n",
        "layer = tf.keras.layers.Flatten()(layer)\n",
        "layer = tf.keras.layers.Dense(units=10, activation=\"softmax\")(layer)\n",
        "# create model\n",
        "model = tf.keras.Model(inputs=visible, outputs=layer)\n",
        "\n",
        "# summarize model\n",
        "model.summary()\n",
        "\n",
        "model.compile(optimizer=\"adam\", loss=tf.keras.losses.SparseCategoricalCrossentropy(), metrics=\"acc\")\n",
        "\n",
        "history_dsconv = model.fit(x=trainX, y=trainY, batch_size=128, epochs=10, validation_data=(testX, testY))"
      ],
      "metadata": {
        "id": "J30DZJbMrrXc"
      },
      "execution_count": null,
      "outputs": []
    }
  ]
}