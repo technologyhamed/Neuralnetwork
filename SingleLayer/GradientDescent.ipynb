{
  "nbformat": 4,
  "nbformat_minor": 0,
  "metadata": {
    "colab": {
      "name": "/SingleLayer/GradientDescent.ipynb",
      "provenance": [],
      "collapsed_sections": [],
      "authorship_tag": "ABX9TyNCoRFIOYgkE8skxm7G8LVf",
      "include_colab_link": true
    },
    "kernelspec": {
      "display_name": "Python 3",
      "name": "python3"
    },
    "language_info": {
      "name": "python"
    }
  },
  "cells": [
    {
      "cell_type": "markdown",
      "metadata": {
        "id": "view-in-github",
        "colab_type": "text"
      },
      "source": [
        "<a href=\"https://colab.research.google.com/github/technologyhamed/Neuralnetwork/blob/Single/SingleLayer/GradientDescent.ipynb\" target=\"_parent\"><img src=\"https://colab.research.google.com/assets/colab-badge.svg\" alt=\"Open In Colab\"/></a>"
      ]
    },
    {
      "cell_type": "code",
      "metadata": {
        "id": "rBTh9o_z74mo"
      },
      "source": [
        "#!pip install datapackage"
      ],
      "execution_count": 160,
      "outputs": []
    },
    {
      "cell_type": "code",
      "metadata": {
        "id": "LVggwURzn4s6"
      },
      "source": [
        "# Perceptron Algorithm on the Sonar Dataset\n",
        "from sklearn.model_selection import KFold \n",
        "%matplotlib inline\n",
        "import matplotlib.pyplot as plt\n",
        "import seaborn as sns\n",
        "from random import randrange\n",
        "from pandas import read_csv\n",
        "from csv import reader\n",
        "from random import seed\n",
        "import numpy as np\n",
        "import pandas as pd\n",
        "import sklearn\n",
        "from sklearn.metrics import confusion_matrix"
      ],
      "execution_count": 161,
      "outputs": []
    },
    {
      "cell_type": "code",
      "metadata": {
        "id": "uaE4rGjpk3_R"
      },
      "source": [
        "#activation function\n",
        "def Cross_Entropy(y_hat, y):\n",
        "    # There are 2 possibilities for the ground-truth: either 0 or 1\n",
        "    # Note that np.log() is actually the natural logarithm with e, for its base\n",
        "    if y == 1:\n",
        "      return -np.log(y_hat)\n",
        "    else:\n",
        "      return -np.log(1 - y_hat)\n",
        "# This is just the classic sigmoid function, given input z\n",
        "def sigmoid (x):\n",
        "  value=np.float128(np.float128(x))\n",
        "  return 1/(1 +np.exp(-value))"
      ],
      "execution_count": 162,
      "outputs": []
    },
    {
      "cell_type": "code",
      "metadata": {
        "id": "88CvcV7TkrxU"
      },
      "source": [
        "def derivative_Cross_Entropy(y_hat, y):\n",
        "    # Again we account for 2 possibilities of y=0/1\n",
        "    if y == 1:\n",
        "      return -1/y_hat\n",
        "    else:\n",
        "      return 1 / (1 - y_hat)\n",
        "# The derivative of sigmoid is quite straight-forward\n",
        "def derivative_sigmoid(x):\n",
        "    return x*(1-x)"
      ],
      "execution_count": 163,
      "outputs": []
    },
    {
      "cell_type": "code",
      "metadata": {
        "id": "QDFTVnchoPry"
      },
      "source": [
        "# Load a CSV file\n",
        "def load_csv(filename):\n",
        "\tdataset = list()\n",
        "\twith open(filename, 'r') as file:\n",
        "\t\tcsv_reader = reader(file)\n",
        "\t\tfor row in csv_reader:\n",
        "\t\t\tif not row:\n",
        "\t\t\t\tcontinue\n",
        "\t\t\tdataset.append(row)\n",
        "\treturn dataset"
      ],
      "execution_count": 164,
      "outputs": []
    },
    {
      "cell_type": "code",
      "metadata": {
        "id": "t5NkPJj9obg6"
      },
      "source": [
        "# Convert string column to float\n",
        "def str_column_to_float(dataset, column):\n",
        "\tfor row in dataset:\n",
        "\t\trow[column] = float(row[column].strip())"
      ],
      "execution_count": 165,
      "outputs": []
    },
    {
      "cell_type": "code",
      "metadata": {
        "id": "PI0W0T7SqMSQ"
      },
      "source": [
        "# Convert string column to integer\n",
        "def str_column_to_int(dataset, column):\n",
        "\tclass_values = [row[column] for row in dataset]\n",
        "\tunique = set(class_values)\n",
        "\tlookup = dict()\n",
        "\tfor i, value in enumerate(unique):\n",
        "\t\tlookup[value] = i\n",
        "\tfor row in dataset:\n",
        "\t\trow[column] = lookup[row[column]]\n",
        "\treturn lookup"
      ],
      "execution_count": 166,
      "outputs": []
    },
    {
      "cell_type": "code",
      "metadata": {
        "id": "NpLgQpHUoksg"
      },
      "source": [
        "# Calculate accuracy percentage\n",
        "def accuracy_metric(actual, predicted):\n",
        "\tcorrect = 0\n",
        "\tfor i in range(len(actual)):\n",
        "\t\tif actual[i] == predicted[i]:\n",
        "\t\t\tcorrect += 1\n",
        "\treturn correct / float(len(actual)) * 100.0"
      ],
      "execution_count": 167,
      "outputs": []
    },
    {
      "cell_type": "code",
      "metadata": {
        "id": "SB0R_Z_9ox6w"
      },
      "source": [
        "# Make a prediction with weights\n",
        "def predict(row, weights):\n",
        "\tactivation = weights[0]\n",
        "\tfor i in range(len(row)-1):\n",
        "\t\tactivation += weights[i + 1] * row[i]\n",
        "\t\tstandardValue\t=\tstandardactivation(activation)\n",
        "\treturn 1.0 if standardValue >= 0.5 else 0.0"
      ],
      "execution_count": 168,
      "outputs": []
    },
    {
      "cell_type": "code",
      "metadata": {
        "id": "kHiXquH9aIZ4"
      },
      "source": [
        "def standardactivation(activation):\n",
        "  activation=np.round(activation,2)\n",
        "  return sigmoid(activation)"
      ],
      "execution_count": 169,
      "outputs": []
    },
    {
      "cell_type": "code",
      "metadata": {
        "id": "0zTVZZyMod5w"
      },
      "source": [
        "# Split a dataset into k folds\n",
        "def cross_validation_split(dataset, n_folds):\n",
        "\tdataset_split = list()\n",
        "\tdataset_copy = list(dataset)\n",
        "\tfold_size = int(len(dataset) / n_folds)\n",
        "\tfor i in range(n_folds):\n",
        "\t\tfold = list()\n",
        "\t\twhile len(fold) < fold_size:\n",
        "\t\t\tindex = randrange(len(dataset_copy))\n",
        "\t\t\tfold.append(dataset_copy.pop(index))\n",
        "\t\tdataset_split.append(fold)\n",
        "\treturn dataset_split"
      ],
      "execution_count": 170,
      "outputs": []
    },
    {
      "cell_type": "code",
      "metadata": {
        "id": "t6AAgo_Uo-x3"
      },
      "source": [
        "# Estimate Perceptron weights using stochastic gradient descent\n",
        "def train_weights(train, l_rate, n_epoch):\n",
        "\t\t\tweights = [0.5 for i in range(len(train[0]))]\n",
        "\t\t\tErrorRate=list()\n",
        "\t\t\tfor epoch in range(n_epoch):\n",
        "\t\t\t\ttotal_error\t=\t0\n",
        "\t\t\t\tfor row in train:\n",
        "\t\t\t\t\tprediction = predict(row, weights)\n",
        "\t\t\t\t\terror = row[-1] - prediction\n",
        "\t\t\t\t\tdEdW_1\t=\tderivative_sigmoid(prediction) \n",
        "\t\t\t\t\tweights[0] = weights[0] + l_rate * error\t\n",
        "\t\t\t\t\tfor i in range(len(row)-1):\n",
        "\t\t\t\t\t\tweights[i + 1] = weights[i + 1] + (l_rate * error * row[i])  -\tdEdW_1 \n",
        "\t\t\t\t\ttotal_error += error\t\n",
        "\t\t\t\tErrorRate.append(total_error)\n",
        "\t\t\treturn weights,ErrorRate\n",
        "\t "
      ],
      "execution_count": 171,
      "outputs": []
    },
    {
      "cell_type": "code",
      "metadata": {
        "id": "Y-R3_D1XpXzv"
      },
      "source": [
        "# Perceptron Algorithm With Stochastic Gradient Descent\n",
        "def perceptron(train, test, l_rate, n_epoch):\n",
        "\t\tpredictions = list()\n",
        "\t\tweights,ErrorRate = train_weights(train, l_rate, n_epoch)\n",
        "\t\tfor row in test:\n",
        "\t\t\tprediction = predict(row, weights)\n",
        "\t\t\tpredictions.append(prediction)\n",
        "\t\treturn(predictions,ErrorRate)"
      ],
      "execution_count": 172,
      "outputs": []
    },
    {
      "cell_type": "code",
      "metadata": {
        "id": "3dFx70iaooSJ"
      },
      "source": [
        "# Evaluate an algorithm using a cross validation split\n",
        "def evaluate_algorithm(dataset, algorithm, n_folds, *args):\n",
        "\t\tfolds = cross_validation_split(dataset, n_folds)\n",
        "\t\tscores = list()\n",
        "\t\terrorList=list()\n",
        "\t\tConfusion_matrix=[]\n",
        "\t\tfor fold in folds:\n",
        "\t\t\ttrain_set = list(folds)\n",
        "\t\t\ttrain_set.remove(fold)\n",
        "\t\t\ttrain_set = sum(train_set, [])\n",
        "\t\t\ttest_set = list()\n",
        "\t\t\tfor row in fold:\n",
        "\t\t\t\trow_copy = list(row)\n",
        "\t\t\t\ttest_set.append(row_copy)\n",
        "\t\t\t\trow_copy[-1] = None\n",
        "\t\t\tpredicted,ErrorRate = algorithm(train_set, test_set, *args)\n",
        "\t\t\tactual = [row[-1] for row in fold]\n",
        "\t\t\taccuracy = accuracy_metric(actual, predicted)\n",
        "\t\t\tpredicted=np.asarray(predicted)\n",
        "\t\t\tactual=np.asarray(actual)\n",
        "\t\t\tConfusion_matrix.append(confusion_matrix(predicted,actual))\n",
        "\t\t\tscores.append(accuracy)\n",
        "\t\t\terrorList.append(ErrorRate)\n",
        "\t\treturn scores,errorList,Confusion_matrix"
      ],
      "execution_count": 173,
      "outputs": []
    },
    {
      "cell_type": "code",
      "metadata": {
        "id": "JSYat96ipo1_"
      },
      "source": [
        "# Test the Perceptron algorithm on the sonar dataset\n",
        "seed(10)\n",
        "# load and prepare data\n",
        "url = \"https://raw.githubusercontent.com/jbrownlee/Datasets/master/sonar.csv\"\n",
        "filename = '../content/sample_data/sonar.all-data.csv'\n",
        "data = read_csv(url,header=None)\n",
        "data.to_csv (filename, header=None)\n",
        "dataset=load_csv(filename)"
      ],
      "execution_count": 174,
      "outputs": []
    },
    {
      "cell_type": "code",
      "metadata": {
        "colab": {
          "base_uri": "https://localhost:8080/"
        },
        "id": "ICupSBNiprYR",
        "outputId": "924d30bf-b5e8-4e56-aa57-38f3c16cd9ed"
      },
      "source": [
        "# convert string class to integers\n",
        "for i in range(len(dataset[0])-1):\n",
        "\tstr_column_to_float(dataset, i)\n",
        "str_column_to_int(dataset, len(dataset[0])-1)"
      ],
      "execution_count": 175,
      "outputs": [
        {
          "output_type": "execute_result",
          "data": {
            "text/plain": [
              "{'M': 0, 'R': 1}"
            ]
          },
          "metadata": {},
          "execution_count": 175
        }
      ]
    },
    {
      "cell_type": "code",
      "metadata": {
        "id": "Ka54SvFyelw0"
      },
      "source": [
        "# evaluate algorithm\n",
        "n_folds = 5\n",
        "l_rate = 0.1\n",
        "n_epoch = 100\n",
        "    \n"
      ],
      "execution_count": 176,
      "outputs": []
    },
    {
      "cell_type": "code",
      "metadata": {
        "id": "uSo3O--snP5A"
      },
      "source": [
        "def plots(ErrorRate,Confusion_matrix):\n",
        "  if not ErrorRate :\n",
        "    return 'null'\n",
        "  fig, ax = plt.subplots(nrows=1, ncols=2, figsize=(12, 6))  \n",
        "  plt.grid()\n",
        "  ErrorRate=np.asarray(ErrorRate)\n",
        "  ax[0].plot(np.abs(ErrorRate[-1]),c='r',label='GrediantError')\n",
        "  ax[0].legend(fancybox=True, framealpha=1, shadow=True, borderpad=1)\n",
        "  ax[1] = sns.heatmap(Confusion_matrix[-1], annot=True, cmap='OrRd')\n",
        "  ax[1].set_title('\\n\\n');\n",
        "  ax[1].set_xlabel('\\nPredicted Values')\n",
        "  ax[1].set_ylabel('Actual Values ');\n",
        "  ## Ticket labels - List must be in alphabetical order\n",
        "  ax[1].xaxis.set_ticklabels(['False','True'])\n",
        "  ax[1].yaxis.set_ticklabels(['False','True'])\n",
        "  plt.show()\n",
        "  return 'null'"
      ],
      "execution_count": 177,
      "outputs": []
    },
    {
      "cell_type": "code",
      "metadata": {
        "colab": {
          "base_uri": "https://localhost:8080/",
          "height": 593
        },
        "id": "V5J5o9032g73",
        "outputId": "3ee2c445-8afa-4621-b14b-c02b2e6b1bf4"
      },
      "source": [
        "scores,ErrorRate,Confusion_matrix = evaluate_algorithm(dataset, perceptron, n_folds, l_rate, n_epoch)\n",
        "plots(ErrorRate,Confusion_matrix)\n",
        "\n",
        "\n",
        "print('Confusion_matrix',Confusion_matrix)\n",
        "## Display the visualization of the Confusion Matrix.\n",
        "#plt.show()\n",
        "print('Scores: %s' % scores)\n",
        "print('Mean Accuracy: %.3f%%' % (sum(scores)/float(len(scores))))\n"
      ],
      "execution_count": 178,
      "outputs": [
        {
          "output_type": "display_data",
          "data": {
            "image/png": "[encoded data removed]",
            "text/plain": [
              "<Figure size 864x432 with 3 Axes>"
            ]
          },
          "metadata": {
            "needs_background": "light"
          }
        },
        {
          "output_type": "stream",
          "name": "stdout",
          "text": [
            "Confusion_matrix [array([[24,  0],\n",
            "       [ 0, 17]]), array([[17,  0],\n",
            "       [ 3, 21]]), array([[19,  5],\n",
            "       [ 0, 17]]), array([[23,  0],\n",
            "       [ 1, 17]]), array([[23,  0],\n",
            "       [ 0, 18]])]\n",
            "Scores: [100.0, 92.6829268292683, 87.8048780487805, 97.5609756097561, 100.0]\n",
            "Mean Accuracy: 95.610%\n"
          ]
        }
      ]
    }
  ]
}